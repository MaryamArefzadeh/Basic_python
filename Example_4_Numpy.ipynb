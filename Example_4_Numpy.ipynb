{
  "nbformat": 4,
  "nbformat_minor": 0,
  "metadata": {
    "colab": {
      "provenance": []
    },
    "kernelspec": {
      "name": "python3",
      "display_name": "Python 3"
    },
    "language_info": {
      "name": "python"
    }
  },
  "cells": [
    {
      "cell_type": "markdown",
      "source": [
        "## Exercise_1 . Create an  3d numpy array with dimensions (4, 5, 3), and print the dimensions finally.\n",
        "\n"
      ],
      "metadata": {
        "id": "GJ1U_37U7uWt"
      }
    },
    {
      "cell_type": "code",
      "source": [
        "import numpy as np\n",
        "\n",
        "arr = np.random.randint(0, 10, size=(4, 5, 3))\n",
        "\n",
        "print(\"3D Array:\\n\", arr)\n",
        "\n",
        "print(\"Shape of array:\", arr.shape)\n",
        "print(\"dimention of array:\", arr.ndim)"
      ],
      "metadata": {
        "colab": {
          "base_uri": "https://localhost:8080/"
        },
        "id": "uFo9liQ8CJZX",
        "outputId": "dcc4c52d-64ca-4d26-c78b-02ed72ed0bcd"
      },
      "execution_count": 2,
      "outputs": [
        {
          "output_type": "stream",
          "name": "stdout",
          "text": [
            "3D Array:\n",
            " [[[8 9 6]\n",
            "  [5 9 4]\n",
            "  [4 4 5]\n",
            "  [0 2 7]\n",
            "  [5 2 6]]\n",
            "\n",
            " [[0 2 9]\n",
            "  [9 3 5]\n",
            "  [8 1 2]\n",
            "  [2 7 1]\n",
            "  [5 8 5]]\n",
            "\n",
            " [[8 9 4]\n",
            "  [8 0 9]\n",
            "  [1 5 2]\n",
            "  [8 3 0]\n",
            "  [9 5 7]]\n",
            "\n",
            " [[6 1 2]\n",
            "  [1 4 7]\n",
            "  [4 6 3]\n",
            "  [3 6 5]\n",
            "  [1 1 5]]]\n",
            "Shape of array: (4, 5, 3)\n",
            "dimention of array: 3\n"
          ]
        }
      ]
    },
    {
      "cell_type": "markdown",
      "source": [
        "## Exercise_2 . change the shape of created array in the exercise 01 to (20, 3) and check the current dimensions!\n"
      ],
      "metadata": {
        "id": "Xy6NAWY08BMu"
      }
    },
    {
      "cell_type": "code",
      "source": [
        "import numpy as np\n",
        "\n",
        "arr = np.random.randint(0, 10, size=(4, 5, 3))\n",
        "print(\"Original shape:\", arr.shape)\n",
        "\n",
        "reshaped_arr = arr.reshape(20, 3)\n",
        "print(\"Reshaped array:\\n\", reshaped_arr)\n",
        "\n",
        "print(\"New shape:\", reshaped_arr.shape)\n",
        "print(\"dimention of array:\",reshaped_arr.ndim )"
      ],
      "metadata": {
        "id": "mPb0o0UT85mN",
        "colab": {
          "base_uri": "https://localhost:8080/"
        },
        "outputId": "d236fce4-88b2-4b40-f449-b081ea60146a"
      },
      "execution_count": 13,
      "outputs": [
        {
          "output_type": "stream",
          "name": "stdout",
          "text": [
            "Original shape: (4, 5, 3)\n",
            "Reshaped array:\n",
            " [[9 0 6]\n",
            " [3 4 7]\n",
            " [3 3 3]\n",
            " [1 2 8]\n",
            " [8 5 4]\n",
            " [5 5 4]\n",
            " [3 1 9]\n",
            " [1 6 5]\n",
            " [8 5 5]\n",
            " [3 4 9]\n",
            " [8 1 5]\n",
            " [1 8 3]\n",
            " [3 9 9]\n",
            " [7 1 2]\n",
            " [1 1 5]\n",
            " [7 5 2]\n",
            " [3 5 7]\n",
            " [0 1 9]\n",
            " [7 7 5]\n",
            " [4 9 9]]\n",
            "New shape: (20, 3)\n",
            "dimention of array: 2\n"
          ]
        }
      ]
    },
    {
      "cell_type": "markdown",
      "source": [
        "## Exercise_3 .  index and print the number 50 from the arr.\n",
        "## arr = np.array([[10, 20, 30, 40], [50, 60, 70, 80]])\n"
      ],
      "metadata": {
        "id": "qce118QK8Ogc"
      }
    },
    {
      "cell_type": "code",
      "source": [
        "arr = np.array([[10, 20, 30, 40], [50, 60, 70, 80]])\n",
        "print(arr[1,0])"
      ],
      "metadata": {
        "id": "BbyMV4Ec82LE",
        "colab": {
          "base_uri": "https://localhost:8080/"
        },
        "outputId": "cf984d88-75c2-4d6f-8ac1-f9cab0c3a7c6"
      },
      "execution_count": 5,
      "outputs": [
        {
          "output_type": "stream",
          "name": "stdout",
          "text": [
            "50\n"
          ]
        }
      ]
    },
    {
      "cell_type": "markdown",
      "source": [
        "##  Exercise_4 . Change the element datatype  of the arr to float!\n",
        "## arr = np.array([[10, 20, 30, 40], [50, 60, 70, 80]])\n"
      ],
      "metadata": {
        "id": "k5idxYSE8Yzk"
      }
    },
    {
      "cell_type": "code",
      "source": [
        "arr = np.array([[10, 20, 30, 40], [50, 60, 70, 80]])\n",
        "print('datatype is : ' ,arr.dtype)\n",
        "arr = arr.astype(float)\n",
        "print('new datatype is : ' , arr.dtype)"
      ],
      "metadata": {
        "id": "DSTPUDQ080Le",
        "colab": {
          "base_uri": "https://localhost:8080/"
        },
        "outputId": "0d4d850d-6aae-4be4-d8cf-79f824dbaa19"
      },
      "execution_count": 8,
      "outputs": [
        {
          "output_type": "stream",
          "name": "stdout",
          "text": [
            "datatype is :  int64\n",
            "new datatype is :  float64\n"
          ]
        }
      ]
    },
    {
      "cell_type": "markdown",
      "source": [
        "## Exercise_5 .  join arr1 and arr2 into a single array!\n",
        " ## arr1 = np.array([1, 2, 3])\n",
        " ## arr2 = np.array([4, 5, 6])"
      ],
      "metadata": {
        "id": "O-CJRErV8Y5-"
      }
    },
    {
      "cell_type": "code",
      "source": [
        "arr1 = np.array([1, 2, 3])\n",
        "arr2 = np.array([4, 5, 6])\n",
        "arr = np.concatenate((arr1, arr2))\n",
        "print('join arr1 and arr2 into a single array :',arr)"
      ],
      "metadata": {
        "id": "MxyXJXEQ80tL",
        "colab": {
          "base_uri": "https://localhost:8080/"
        },
        "outputId": "4d9cb123-bdbe-40d4-c9ce-47dc514ccdd5"
      },
      "execution_count": 11,
      "outputs": [
        {
          "output_type": "stream",
          "name": "stdout",
          "text": [
            "join arr1 and arr2 into a single array : [1 2 3 4 5 6]\n"
          ]
        }
      ]
    }
  ]
}