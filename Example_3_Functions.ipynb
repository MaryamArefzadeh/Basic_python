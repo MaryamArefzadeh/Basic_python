{
  "nbformat": 4,
  "nbformat_minor": 0,
  "metadata": {
    "colab": {
      "provenance": []
    },
    "kernelspec": {
      "name": "python3",
      "display_name": "Python 3"
    },
    "language_info": {
      "name": "python"
    }
  },
  "cells": [
    {
      "cell_type": "markdown",
      "source": [
        "##Exercise_1 . Write a function that creates a dictionary from two lists of keys and values. If the number of keys is greater than 1, it will return None for the missing values, and if the number of values ​​is greater than 1, it will ignore the extra values.example: keys=[\"a\",\"b\",\"c\"], values=[1] → {\"a\":1,\"b\":None,\"c\":None}\n",
        "\n"
      ],
      "metadata": {
        "id": "7Gfe0Rpw-MTQ"
      }
    },
    {
      "cell_type": "markdown",
      "source": [
        "##Method_1"
      ],
      "metadata": {
        "id": "kI2Ac4ktjyto"
      }
    },
    {
      "cell_type": "code",
      "source": [
        "def create_dictionary_from_lists(keys, values):\n",
        "  result = {}\n",
        "  for index , key in enumerate(keys):\n",
        "    if index < len(values):\n",
        "      result[key] = values[index]\n",
        "    else:\n",
        "      result[key] = None\n",
        "  return result\n",
        "\n",
        "final_dict = create_dictionary_from_lists([\"a\", \"b\", \"c\"], [1])\n",
        "print(f'keys={keys}, values={values} → {final_dict}')"
      ],
      "metadata": {
        "colab": {
          "base_uri": "https://localhost:8080/"
        },
        "id": "pNMJlZBERhzd",
        "outputId": "9acebde6-90e2-4921-a26c-923ec2cc36e8"
      },
      "execution_count": null,
      "outputs": [
        {
          "output_type": "stream",
          "name": "stdout",
          "text": [
            "keys=['a', 'b', 'c'], values=[1] → {'a': 1, 'b': None, 'c': None}\n"
          ]
        }
      ]
    },
    {
      "cell_type": "markdown",
      "source": [
        "##Method_2"
      ],
      "metadata": {
        "id": "NgS2X1yNj2ui"
      }
    },
    {
      "cell_type": "code",
      "source": [
        "def create_dictionary_from_lists(keys, values):\n",
        "    result = {}\n",
        "\n",
        "    for key, value in zip(keys, values):\n",
        "        result[key] = value\n",
        "\n",
        "    for key in keys[len(values):]:\n",
        "        result[key] = None\n",
        "\n",
        "    return result\n",
        "\n",
        "final_dict = create_dictionary_from_lists([\"a\", \"b\", \"c\"], [1])\n",
        "print(f'keys={keys}, values={values} → {final_dict}')"
      ],
      "metadata": {
        "colab": {
          "base_uri": "https://localhost:8080/"
        },
        "id": "zoylvZmKjXGt",
        "outputId": "513730ad-1a1d-462a-b6a8-80b0d2f8a63f"
      },
      "execution_count": null,
      "outputs": [
        {
          "output_type": "stream",
          "name": "stdout",
          "text": [
            "keys=['a', 'b', 'c'], values=[1] → {'a': 1, 'b': None, 'c': None}\n"
          ]
        }
      ]
    },
    {
      "cell_type": "markdown",
      "source": [
        "##Exercise_2 . Write a function that counts the frequency of elements in a list without using collections.Counter and returns a dictionary sorted in descending order by value (count) (it can return a list of pairs).example: [3,1,3,2,1,4,3] → {1:\"4\",1:\"2\",2:\"1\",3:\"3\"} or [(1,\"4\"),(1,\"2\"),(2,\"1\"),(3,\"3\")]"
      ],
      "metadata": {
        "id": "8HU5SE5j-Miv"
      }
    },
    {
      "cell_type": "code",
      "source": [
        "def frequency_count(lst):\n",
        "\n",
        "  counts = {}\n",
        "  for ele in lst:\n",
        "    if ele in counts:\n",
        "      counts[ele] += 1\n",
        "    else:\n",
        "      counts[ele] = 1\n",
        "\n",
        "  sorted_counts = sorted(counts.items(), key=lambda item: item[1], reverse=True)\n",
        "\n",
        "  string_counts = {key: str(value) for key, value in sorted_counts}\n",
        "\n",
        "  result_list = [(key, str(value)) for key, value in sorted_counts]\n",
        "\n",
        "\n",
        "\n",
        "  return string_counts, result_list\n",
        "\n",
        "print(frequency_count( [3,1,3,2,1,4,3]))\n"
      ],
      "metadata": {
        "colab": {
          "base_uri": "https://localhost:8080/"
        },
        "id": "9akSpVO0RWeo",
        "outputId": "e77c5880-e132-4c4b-f163-9f78427760ef"
      },
      "execution_count": null,
      "outputs": [
        {
          "output_type": "stream",
          "name": "stdout",
          "text": [
            "({3: '3', 1: '2', 2: '1', 4: '1'}, [(3, '3'), (1, '2'), (2, '1'), (4, '1')])\n"
          ]
        }
      ]
    },
    {
      "cell_type": "markdown",
      "source": [
        "##Exercise_3 . Write a function to reverse the mapping. If the input dictionary is name -> dept, the output is dept -> list(names) and sort the list of names alphabetically.example: {CV\":[\"sara\"],\"ML\":[\"ali\",\"mina\"]\"} → {\"ali\":\"ML\",\"mina\":\"ML\",\"sara\":\"CV\"}\n"
      ],
      "metadata": {
        "id": "e-oKEl-b-Mqf"
      }
    },
    {
      "cell_type": "code",
      "source": [
        "def reverse_mapping(input_dict):\n",
        "    reversed_dict = {}\n",
        "    for key, value in input_dict.items():\n",
        "      for val in value:\n",
        "        reversed_dict[val] = key\n",
        "    return dict(sorted(reversed_dict.items()))\n",
        "\n",
        "input_dict = {\"CV\": [\"sara\"], \"ML\": [\"ali\", \"mina\"]}\n",
        "reversed_dict = reverse_mapping(input_dict)\n",
        "print(f'{input_dict} → {reversed_dict}')"
      ],
      "metadata": {
        "id": "n3PSMoJCRXFS",
        "colab": {
          "base_uri": "https://localhost:8080/"
        },
        "outputId": "6aedb9f4-07bb-4136-d079-21fae910ffe6"
      },
      "execution_count": 11,
      "outputs": [
        {
          "output_type": "stream",
          "name": "stdout",
          "text": [
            "{'CV': ['sara'], 'ML': ['ali', 'mina']} → {'ali': 'ML', 'mina': 'ML', 'sara': 'CV'}\n"
          ]
        }
      ]
    },
    {
      "cell_type": "markdown",
      "source": [
        "##Exercise_4 . Merge two nested dictionaries recursively. If both sides of a key value are dictionaries, merge them. Otherwise, replace the right-hand side value.example:  B={\"a\":{\"y\":9,\"z\":3},\"c\":7} and A={\"a\":{\"x\":1,\"y\":2},\"b\":0} and output: {a\":{\"x\":1,\"y\":9,\"z\":3},\"b\":0,\"c\":7\"}\n"
      ],
      "metadata": {
        "id": "dRmZWOdp-M6X"
      }
    },
    {
      "cell_type": "markdown",
      "source": [
        "##Method_1"
      ],
      "metadata": {
        "id": "CRMvbyFL3vUU"
      }
    },
    {
      "cell_type": "code",
      "source": [
        "def merge_dictionaries(A, B):\n",
        "    merged_dict = {}\n",
        "    for key, value in A.items():\n",
        "        if key in B:\n",
        "            if isinstance(value, dict) and isinstance(B[key], dict):\n",
        "                merged_dict[key] = merge_dictionaries(value, B[key])\n",
        "            else:\n",
        "                merged_dict[key] = B[key]\n",
        "        else:\n",
        "            merged_dict[key] = value\n",
        "    for key, value in B.items():\n",
        "        if key not in merged_dict:\n",
        "             merged_dict[key] = value\n",
        "    return merged_dict\n",
        "merge_dictionaries( {\"a\":{\"x\":1,\"y\":2},\"b\":0}, {\"a\":{\"y\":9,\"z\":3},\"c\":7})"
      ],
      "metadata": {
        "id": "hgJUbVt9RXlC",
        "colab": {
          "base_uri": "https://localhost:8080/"
        },
        "outputId": "63601c08-848c-48a7-9a03-6dc90b49f5e0"
      },
      "execution_count": 14,
      "outputs": [
        {
          "output_type": "execute_result",
          "data": {
            "text/plain": [
              "{'a': {'x': 1, 'y': 9, 'z': 3}, 'b': 0, 'c': 7}"
            ]
          },
          "metadata": {},
          "execution_count": 14
        }
      ]
    },
    {
      "cell_type": "markdown",
      "source": [
        "##Method_2"
      ],
      "metadata": {
        "id": "Aqfl3IW03y5Q"
      }
    },
    {
      "cell_type": "code",
      "source": [
        "def merge_dictionaries(A, B):\n",
        "  result = dict(A)\n",
        "  for key , value in B.items():\n",
        "    if key in result:\n",
        "        if isinstance(result[key],dict) and isinstance(value , dict):\n",
        "           result[key] = merge_dictionaries(result[key] , value)\n",
        "        else:\n",
        "           result[key] = value\n",
        "    else:\n",
        "       result[key] = value\n",
        "  return result\n",
        "\n",
        "merge_dictionaries( {\"a\":{\"x\":1,\"y\":2},\"b\":0}, {\"a\":{\"y\":9,\"z\":3},\"c\":7})"
      ],
      "metadata": {
        "colab": {
          "base_uri": "https://localhost:8080/"
        },
        "id": "cpLqJC3voJQ_",
        "outputId": "e30f027f-b327-43c0-eb82-29f31bac145f"
      },
      "execution_count": 15,
      "outputs": [
        {
          "output_type": "execute_result",
          "data": {
            "text/plain": [
              "{'a': {'x': 1, 'y': 9, 'z': 3}, 'b': 0, 'c': 7}"
            ]
          },
          "metadata": {},
          "execution_count": 15
        }
      ]
    }
  ]
}
