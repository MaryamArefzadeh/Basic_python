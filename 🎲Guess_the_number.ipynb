{
  "nbformat": 4,
  "nbformat_minor": 0,
  "metadata": {
    "colab": {
      "provenance": []
    },
    "kernelspec": {
      "name": "python3",
      "display_name": "Python 3"
    },
    "language_info": {
      "name": "python"
    }
  },
  "cells": [
    {
      "cell_type": "code",
      "source": [
        "import random\n",
        "\n",
        "def play_game():\n",
        "    \"\"\"\n",
        "    Function to play a number guessing game.\n",
        "    A random number between 1 and 100 is generated.\n",
        "    The user tries to guess the number until correct.\n",
        "    \"\"\"\n",
        "    # Generate a random number between 1 and 100\n",
        "    secret_number = random.randint(1, 100)\n",
        "\n",
        "    # For testing, print the secret number (can be removed in production)\n",
        "    print(f\"🔢 Secret number (for testing): {secret_number}\")\n",
        "\n",
        "    guess_count = 0  # Counter for number of guesses\n",
        "\n",
        "    print(\"🎲 Welcome to the Number Guessing Game! (Guess a number between 1 and 100)\")\n",
        "\n",
        "    while True:\n",
        "        try:\n",
        "            guess = int(input(\"Enter your guess: \"))\n",
        "            guess_count += 1  # Increase guess counter\n",
        "        except ValueError:\n",
        "            print(\"❌ Invalid input! Please enter a number only.\")\n",
        "            continue\n",
        "\n",
        "        # Compare the guess with the secret number\n",
        "        if guess < secret_number:\n",
        "            print(\"🔼 Higher!\")\n",
        "        elif guess > secret_number:\n",
        "            print(\"🔽 Lower!\")\n",
        "        else:\n",
        "            print(f\"🎉 Congratulations! You guessed it right. The number was {secret_number}.\")\n",
        "            print(f\"Number of guesses: {guess_count}\")\n",
        "            break\n",
        "\n",
        "def main():\n",
        "    \"\"\"\n",
        "    Main function to run the game.\n",
        "    Allows multiple games until the user decides to exit.\n",
        "    \"\"\"\n",
        "    print(\"🎮 Number Guessing Game (type 'exit' to quit at any time)\")\n",
        "\n",
        "    while True:\n",
        "        user_input = input(\"\\nDo you want to play? (yes/exit): \").lower()\n",
        "        if user_input == \"exit\":\n",
        "            print(\"👋 Thanks for playing! Goodbye!\")\n",
        "            break\n",
        "        elif user_input == \"yes\":\n",
        "            play_game()\n",
        "        else:\n",
        "            print(\"❌ Invalid option. Type 'yes' to play or 'exit' to quit.\")\n",
        "\n",
        "if __name__ == \"__main__\":\n",
        "    main()\n"
      ],
      "metadata": {
        "colab": {
          "base_uri": "https://localhost:8080/"
        },
        "id": "iEMWe0WlcBcJ",
        "outputId": "8577651d-5e07-469a-a518-286a3204bb76"
      },
      "execution_count": null,
      "outputs": [
        {
          "output_type": "stream",
          "name": "stdout",
          "text": [
            "🎮 Number Guessing Game (type 'exit' to quit at any time)\n",
            "\n",
            "Do you want to play? (yes/exit): yes\n",
            "🔢 Secret number (for testing): 21\n",
            "🎲 Welcome to the Number Guessing Game! (Guess a number between 1 and 100)\n",
            "Enter your guess: 65\n",
            "🔽 Lower!\n",
            "Enter your guess: 83\n",
            "🔽 Lower!\n",
            "Enter your guess: 10\n",
            "🔼 Higher!\n",
            "Enter your guess: 20\n",
            "🔼 Higher!\n",
            "Enter your guess: 21\n",
            "🎉 Congratulations! You guessed it right. The number was 21.\n",
            "Number of guesses: 5\n",
            "\n",
            "Do you want to play? (yes/exit): exit\n",
            "👋 Thanks for playing! Goodbye!\n"
          ]
        }
      ]
    }
  ]
}