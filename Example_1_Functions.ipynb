{
  "nbformat": 4,
  "nbformat_minor": 0,
  "metadata": {
    "colab": {
      "provenance": []
    },
    "kernelspec": {
      "name": "python3",
      "display_name": "Python 3"
    },
    "language_info": {
      "name": "python"
    }
  },
  "cells": [
    {
      "cell_type": "markdown",
      "source": [
        "#Exercise_1 . Write a function that trims the input string and then capitalizes the first letter of each word. example :  \"hello world \" → \"Hello World\""
      ],
      "metadata": {
        "id": "kmAX4E3Er5Iv"
      }
    },
    {
      "cell_type": "code",
      "source": [
        "def hello_world(sample):\n",
        "   sample_def = sample.strip().split()\n",
        "   capitalize_list = []\n",
        "   for word in  sample_def:\n",
        "     words = word.capitalize()\n",
        "     capitalize_list.append(words)\n",
        "     capitalize_full = \" \".join(capitalize_list)\n",
        "   return capitalize_full\n",
        "\n",
        "hello_world(\"hello world \")"
      ],
      "metadata": {
        "colab": {
          "base_uri": "https://localhost:8080/",
          "height": 36
        },
        "id": "hqs32FpMFQ-B",
        "outputId": "a7bc7741-48e2-4f12-afe8-8b2555367f35"
      },
      "execution_count": null,
      "outputs": [
        {
          "output_type": "execute_result",
          "data": {
            "text/plain": [
              "'Hello World'"
            ],
            "application/vnd.google.colaboratory.intrinsic+json": {
              "type": "string"
            }
          },
          "metadata": {},
          "execution_count": 30
        }
      ]
    },
    {
      "cell_type": "markdown",
      "source": [
        "#Exercise_2 . The **is_palindrome(s)** function determines whether a string is a palindrome, regardless of spacing, punctuation, and case.example : A man, a plan, a canal: Panama\" →True\""
      ],
      "metadata": {
        "id": "8hNVTEGQFVgY"
      }
    },
    {
      "cell_type": "code",
      "source": [
        "s = \"A man, a plan, a canal: Panama\"\n",
        "def  is_palindrome(s):\n",
        "  palindrome = \"\"\n",
        "  for char in s:\n",
        "     if char.isalnum():\n",
        "        palindrome += char.lower()\n",
        "  print(\"Cleaned string:\", palindrome)\n",
        "  print(\"Reversed string:\", palindrome[::-1])\n",
        "  return  palindrome == palindrome[::-1]\n",
        "is_palindrome(s)"
      ],
      "metadata": {
        "colab": {
          "base_uri": "https://localhost:8080/"
        },
        "id": "8PKOyzKsFiaI",
        "outputId": "ffc621f4-d8d9-4683-87cc-a1f302f98f6b"
      },
      "execution_count": null,
      "outputs": [
        {
          "output_type": "stream",
          "name": "stdout",
          "text": [
            "Cleaned string: amanaplanacanalpanama\n",
            "Reversed string: amanaplanacanalpanama\n"
          ]
        },
        {
          "output_type": "execute_result",
          "data": {
            "text/plain": [
              "True"
            ]
          },
          "metadata": {},
          "execution_count": 85
        }
      ]
    },
    {
      "cell_type": "markdown",
      "source": [
        "#Exercise_3 . A function that converts snake case to camel case and works correctly with multiple consecutive underscores.example : \"first_name__and__last_name\" →\"FirstNameAndLastName\""
      ],
      "metadata": {
        "id": "z80GLOG-FaXQ"
      }
    },
    {
      "cell_type": "markdown",
      "source": [
        "#Method_1"
      ],
      "metadata": {
        "id": "aF9miaMQ0zBb"
      }
    },
    {
      "cell_type": "code",
      "source": [
        "snake_case = \"first_name__and__last_name\"\n",
        "def snake_to_camel(snake_case):\n",
        "  words =snake_case.split(\"_\")\n",
        "  capitalize_list = []\n",
        "  for word in words:\n",
        "    capitalize_list.append(word.capitalize())\n",
        "  capitalize_full = \"\".join(capitalize_list)\n",
        "  return capitalize_full\n",
        "snake_to_camel(snake_case)"
      ],
      "metadata": {
        "colab": {
          "base_uri": "https://localhost:8080/",
          "height": 36
        },
        "id": "rkg3Znk6wz58",
        "outputId": "94a42457-a572-4d45-f816-d6e515f8e930"
      },
      "execution_count": null,
      "outputs": [
        {
          "output_type": "execute_result",
          "data": {
            "text/plain": [
              "'FirstNameAndLastName'"
            ],
            "application/vnd.google.colaboratory.intrinsic+json": {
              "type": "string"
            }
          },
          "metadata": {},
          "execution_count": 32
        }
      ]
    },
    {
      "cell_type": "markdown",
      "source": [
        "#Method_2"
      ],
      "metadata": {
        "id": "4x5poJVQ03tL"
      }
    },
    {
      "cell_type": "code",
      "source": [
        "snake_case = \"first_name__and__last_name\"\n",
        "def snake_to_camel(snake_case):\n",
        "  words = [word for word in snake_case.split(\"_\") if word]\n",
        "  return \"\".join(word.capitalize() for word in words)\n",
        "snake_to_camel(snake_case)"
      ],
      "metadata": {
        "colab": {
          "base_uri": "https://localhost:8080/",
          "height": 36
        },
        "id": "9eo_CBwy0t_q",
        "outputId": "29f868e8-1581-414d-bbca-5f7f4ccf117a"
      },
      "execution_count": null,
      "outputs": [
        {
          "output_type": "execute_result",
          "data": {
            "text/plain": [
              "'FirstNameAndLastName'"
            ],
            "application/vnd.google.colaboratory.intrinsic+json": {
              "type": "string"
            }
          },
          "metadata": {},
          "execution_count": 33
        }
      ]
    },
    {
      "cell_type": "markdown",
      "source": [
        "#Exercise_4 . A function that counts the frequency of functions in a text (punctuation removed and all letters lowercased) and returns the output in descending order of frequency.example : To be, or not to be.\" →[(\"to\",2),(\"be\",2),(\"or\",1),(\"not\",1)]\""
      ],
      "metadata": {
        "id": "swDEpGWeFdCA"
      }
    },
    {
      "cell_type": "markdown",
      "source": [
        "#Method_1"
      ],
      "metadata": {
        "id": "dGhfn6fRAEs0"
      }
    },
    {
      "cell_type": "code",
      "source": [
        "text = \"To be, or not to be.\"\n",
        "def frequency_count(text):\n",
        "   text = text.lower()\n",
        "   text = \"\".join(char for char in text if char.isalnum()  or char.isspace())\n",
        "   words = text.split()\n",
        "   counts = []\n",
        "   for word in set(words):\n",
        "     counts.append((word,words.count(word)))\n",
        "   counts = sorted(counts, key=lambda x: x[1], reverse=True)\n",
        "   return counts\n",
        "frequency_count(text)\n"
      ],
      "metadata": {
        "colab": {
          "base_uri": "https://localhost:8080/"
        },
        "id": "6mBX64gUFji5",
        "outputId": "b67313e8-f142-454f-895b-adc0acce5725"
      },
      "execution_count": null,
      "outputs": [
        {
          "output_type": "execute_result",
          "data": {
            "text/plain": [
              "[('to', 2), ('be', 2), ('or', 1), ('not', 1)]"
            ]
          },
          "metadata": {},
          "execution_count": 34
        }
      ]
    },
    {
      "cell_type": "markdown",
      "source": [
        "#Method_2"
      ],
      "metadata": {
        "id": "IfLuJssoAJd7"
      }
    },
    {
      "cell_type": "code",
      "source": [
        "import string\n",
        "from collections import Counter\n",
        "text = \"To be, or not to be.\"\n",
        "def frequency_count(text):\n",
        "   text = text.lower()\n",
        "   for char in string.punctuation:\n",
        "    text = text.replace(char,\"\")\n",
        "   text= text.split()\n",
        "   counts = Counter(text)\n",
        "   return sorted(counts.items() , key=lambda item: item[1] , reverse=True)\n",
        "\n",
        "frequency_count(text)"
      ],
      "metadata": {
        "colab": {
          "base_uri": "https://localhost:8080/"
        },
        "id": "Tz_mK2gx0CiK",
        "outputId": "29e6f567-b7f4-4fd6-f346-fcdec2ca2487"
      },
      "execution_count": null,
      "outputs": [
        {
          "output_type": "execute_result",
          "data": {
            "text/plain": [
              "[('to', 2), ('be', 2), ('or', 1), ('not', 1)]"
            ]
          },
          "metadata": {},
          "execution_count": 38
        }
      ]
    },
    {
      "cell_type": "markdown",
      "source": [
        "#Exercise_5 . Two functions rle_decode(s) and rle_encode(s) for compressing and restoring strings with Run-Length Encoding.example_1 : \"aaabbccccaaa\" → again →\"aaabbccccaaa\" → \"a3b2c4a3\"\n"
      ],
      "metadata": {
        "id": "_FMjhN0OFfA4"
      }
    },
    {
      "cell_type": "markdown",
      "source": [
        "#Method_1"
      ],
      "metadata": {
        "id": "JjLZmb9EZeLm"
      }
    },
    {
      "cell_type": "code",
      "source": [
        "def rle_encode(s):\n",
        "  result_encode = \"\"\n",
        "  count = 1\n",
        "  for i in range(1 ,len(s)):\n",
        "    if s[i] == s[i-1]:\n",
        "      count += 1\n",
        "    else :\n",
        "      result_encode += s[i-1] + str(count)\n",
        "      count = 1\n",
        "  result_encode += s[-1] + str(count)\n",
        "  return result_encode\n",
        "result_encode_final = rle_encode(\"aaabbccccaaa\")\n",
        "print(f'\"{s}\" → \"{result_encode_final}\"')\n",
        "def rle_decode(s):\n",
        "   result_decode = \"\"\n",
        "   for i in range(0, len(s),2):\n",
        "     result_decode += s[i] * int(s[i+1])\n",
        "   return result_decode\n",
        "result_decode_final = rle_decode(result_encode_final)\n",
        "print(f'\"{result_encode_final}\" → \"{result_decode_final}\"')"
      ],
      "metadata": {
        "id": "WiKjcIqjFj7o",
        "colab": {
          "base_uri": "https://localhost:8080/"
        },
        "outputId": "6cb2ca4e-6a79-4651-f3f3-a1a13cd36c92"
      },
      "execution_count": 123,
      "outputs": [
        {
          "output_type": "stream",
          "name": "stdout",
          "text": [
            "\"aaabbccccaaa\" → \"a3b2c4a3\"\n",
            "\"a3b2c4a3\" → \"aaabbccccaaa\"\n"
          ]
        }
      ]
    },
    {
      "cell_type": "markdown",
      "source": [
        "#Method_2"
      ],
      "metadata": {
        "id": "kBHE0j4oZjb2"
      }
    },
    {
      "cell_type": "code",
      "source": [
        "def rle_encode(s):\n",
        "  result_encode = \"\"\n",
        "  count = 1\n",
        "  previos = s[0]\n",
        "  for letter in s[1:]:\n",
        "    if  letter == previos:\n",
        "      count += 1\n",
        "    else :\n",
        "      result_encode += previos + str(count)\n",
        "      previos = letter\n",
        "      count = 1\n",
        "  result_encode += previos + str(count)\n",
        "  return result_encode\n",
        "result_encode_final = rle_encode(\"aaabbccccaaa\")\n",
        "print(f'\"{s}\" → \"{result_encode_final}\"')\n",
        "def rle_decode(s):\n",
        "   result_decode = \"\"\n",
        "   i = 0\n",
        "   while i<len(s):\n",
        "    letter = s[i]\n",
        "    count = int(s[i+1])\n",
        "    result_decode += letter * count\n",
        "    i += 2\n",
        "   return result_decode\n",
        "result_decode_final = rle_decode(result_encode_final)\n",
        "print(f'\"{result_encode_final}\" → \"{result_decode_final}\"')\n",
        "\n",
        "\n",
        "#    for i in range(0, len(s),2):\n",
        "#      result_decode += s[i] * int(s[i+1])\n",
        "#    return result_decode\n",
        "# result_decode_final = rle_decode(result_encode_final)\n",
        "# print(f'\"{result_encode_final}\" → \"{result_decode_final}\"')"
      ],
      "metadata": {
        "colab": {
          "base_uri": "https://localhost:8080/"
        },
        "id": "40Ok_udLZTwv",
        "outputId": "e41a9408-fee8-4651-fd46-a7dcdf237eb9"
      },
      "execution_count": 126,
      "outputs": [
        {
          "output_type": "stream",
          "name": "stdout",
          "text": [
            "\"aaabbccccaaa\" → \"a3b2c4a3\"\n",
            "\"a3b2c4a3\" → \"aaabbccccaaa\"\n"
          ]
        }
      ]
    }
  ]
}
