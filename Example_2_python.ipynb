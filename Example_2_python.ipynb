{
  "nbformat": 4,
  "nbformat_minor": 0,
  "metadata": {
    "colab": {
      "provenance": []
    },
    "kernelspec": {
      "name": "python3",
      "display_name": "Python 3"
    },
    "language_info": {
      "name": "python"
    }
  },
  "cells": [
    {
      "cell_type": "markdown",
      "source": [
        "##Exercise_1 . Write a function that removes duplicate elements while preserving the order of first occurrence.example:[3 ,1 ,3 ,2 ,4 ,1] → [3 ,1 ,2 ,4]"
      ],
      "metadata": {
        "id": "uMy9oDjZjL6a"
      }
    },
    {
      "cell_type": "markdown",
      "source": [
        "##Method_1"
      ],
      "metadata": {
        "id": "WDeQT16__pD-"
      }
    },
    {
      "cell_type": "code",
      "source": [
        "def remove_duplicates(lst):\n",
        "  result = []\n",
        "  for i in lst:\n",
        "    if i not in result:\n",
        "      result.append(i)\n",
        "  return result\n",
        "remove_duplicates([3 ,1 ,3 ,2 ,4 ,1])"
      ],
      "metadata": {
        "colab": {
          "base_uri": "https://localhost:8080/"
        },
        "id": "gG2uXPOczwzS",
        "outputId": "6afd2624-ddc4-4163-f031-24905cba6ead"
      },
      "execution_count": null,
      "outputs": [
        {
          "output_type": "execute_result",
          "data": {
            "text/plain": [
              "[3, 1, 2, 4]"
            ]
          },
          "metadata": {},
          "execution_count": 3
        }
      ]
    },
    {
      "cell_type": "markdown",
      "source": [
        "##Method_2"
      ],
      "metadata": {
        "id": "zPSNsc3R_u7k"
      }
    },
    {
      "cell_type": "code",
      "source": [
        "def remove_duplicates(lst):\n",
        "  result = []\n",
        "  for i in range(len(lst)):\n",
        "    if lst.index(lst[i]) == i:\n",
        "      result.append(lst[i])\n",
        "  return result\n",
        "remove_duplicates([3 ,1 ,3 ,2 ,4 ,1])"
      ],
      "metadata": {
        "colab": {
          "base_uri": "https://localhost:8080/"
        },
        "id": "Nbd5IBX9_01l",
        "outputId": "c8f8cfd3-795a-46dc-b0ba-7d74bd7baf8e"
      },
      "execution_count": null,
      "outputs": [
        {
          "output_type": "execute_result",
          "data": {
            "text/plain": [
              "[3, 1, 2, 4]"
            ]
          },
          "metadata": {},
          "execution_count": 4
        }
      ]
    },
    {
      "cell_type": "markdown",
      "source": [
        "##Exercise_2 . Write a function to rotate a list that is shifted by k; where k can be negative.example: rotate([1,2,3,4,5], k=-1) →[2,3,4,5,1] و rotate([1,2,3,4,5], k=2) →[4,5,1,2,3]"
      ],
      "metadata": {
        "id": "FRS0_YAPjkbC"
      }
    },
    {
      "cell_type": "markdown",
      "source": [
        "##Method_1"
      ],
      "metadata": {
        "id": "sAxLQFG3Jvlh"
      }
    },
    {
      "cell_type": "code",
      "source": [
        "def rotate_list(lst,k):\n",
        "  if k > 0:\n",
        "    for i in range(k):\n",
        "      lst.insert(0,lst.pop())\n",
        "  elif k < 0:\n",
        "    for i in range(abs(k)):\n",
        "      lst.append(lst.pop(0))\n",
        "\n",
        "  return lst\n",
        "Rotation_1=rotate_list([1,2,3,4,5], k=-1)\n",
        "Rotation_2=rotate_list([1,2,3,4,5], k=2)\n",
        "\n",
        "print(f'rotate([1,2,3,4,5],k=-1) → {Rotation_1}')\n",
        "print(f'rotate([1,2,3,4,5],k=2) → {Rotation_2}')"
      ],
      "metadata": {
        "colab": {
          "base_uri": "https://localhost:8080/"
        },
        "id": "92ceFoxO7yMP",
        "outputId": "7a19e865-dce9-4daf-c7d0-360afb664fe4"
      },
      "execution_count": null,
      "outputs": [
        {
          "output_type": "stream",
          "name": "stdout",
          "text": [
            "rotate([1,2,3,4,5],k=-1) → [2, 3, 4, 5, 1]\n",
            "rotate([1,2,3,4,5],k=2) → [4, 5, 1, 2, 3]\n"
          ]
        }
      ]
    },
    {
      "cell_type": "markdown",
      "source": [
        "##Method_2"
      ],
      "metadata": {
        "id": "p3loQHjNJ3Hg"
      }
    },
    {
      "cell_type": "code",
      "source": [
        "def rotate_list(lst,k):\n",
        "  if k > 0:\n",
        "    rotation= lst[-k:] + lst[:-k]\n",
        "  else:\n",
        "    rotation= lst[-k:] + lst[:-k]\n",
        "  return rotation\n",
        "\n",
        "Rotation_1=rotate_list([1,2,3,4,5], k=-1)\n",
        "Rotation_2=rotate_list([1,2,3,4,5], k=2)\n",
        "\n",
        "print(f'rotate([1,2,3,4,5],k=-1) → {Rotation_1}')\n",
        "print(f'rotate([1,2,3,4,5],k=2) → {Rotation_2}')"
      ],
      "metadata": {
        "colab": {
          "base_uri": "https://localhost:8080/"
        },
        "id": "LrEwP_BfJ51h",
        "outputId": "886a0968-00b3-4de5-b41e-930d6c254ad9"
      },
      "execution_count": null,
      "outputs": [
        {
          "output_type": "stream",
          "name": "stdout",
          "text": [
            "rotate([1,2,3,4,5],k=-1) → [2, 3, 4, 5, 1]\n",
            "rotate([1,2,3,4,5],k=2) → [4, 5, 1, 2, 3]\n"
          ]
        }
      ]
    },
    {
      "cell_type": "markdown",
      "source": [
        "##Exercise_3 . Write a function that divides a list into equal blocks of size n (the last block can be smaller).example:  chunk([1,2,3,4,5], n=2) → [[1,2],[3,4],[5]]"
      ],
      "metadata": {
        "id": "TKddgXW8jmix"
      }
    },
    {
      "cell_type": "code",
      "source": [
        "def chunk(lst,n):\n",
        "  result = []\n",
        "  for i in range(0,len(lst),n):\n",
        "    result.append(lst[i:i+n])\n",
        "  return result\n",
        "chunk_final=chunk([1,2,3,4,5], n=2)\n",
        "print(f'chunk([1,2,3,4,5],n=2) → {chunk_final}')"
      ],
      "metadata": {
        "colab": {
          "base_uri": "https://localhost:8080/"
        },
        "id": "9h-Kt2uFCbj0",
        "outputId": "11268b59-b255-49fe-f598-575a86c0756f"
      },
      "execution_count": 3,
      "outputs": [
        {
          "output_type": "stream",
          "name": "stdout",
          "text": [
            "chunk([1,2,3,4,5],n=2) → [[1, 2], [3, 4], [5]]\n"
          ]
        }
      ]
    },
    {
      "cell_type": "markdown",
      "source": [
        "##Exercise_4 . A function to flatten nested lists of arbitrary depth.example:  flatten([1,[2,[3,4],5],6]) →[1,2,3,4,5,6]"
      ],
      "metadata": {
        "id": "eY2JAnLTjo3Z"
      }
    },
    {
      "cell_type": "code",
      "source": [
        "def flatten(lst):\n",
        "  result = []\n",
        "  for i in lst:\n",
        "    if type(i) == list:\n",
        "      result.extend(flatten(i))\n",
        "    else:\n",
        "      result.append(i)\n",
        "  return result\n",
        "flatten_final=flatten([1,[2,[3,4],5],6])\n",
        "print(f'flatten([1,[2,[3,4],5],6]) → {flatten_final}')"
      ],
      "metadata": {
        "colab": {
          "base_uri": "https://localhost:8080/"
        },
        "id": "CGq83aiRINZg",
        "outputId": "275ed951-cd32-4b7b-e39f-634bbf01b02d"
      },
      "execution_count": 9,
      "outputs": [
        {
          "output_type": "stream",
          "name": "stdout",
          "text": [
            "flatten([1,[2,[3,4],5],6]) → [1, 2, 3, 4, 5, 6]\n"
          ]
        }
      ]
    },
    {
      "cell_type": "markdown",
      "source": [
        "##Exercise_5 . Write a function that performs run-length encoding on a list and returns a list of (value, count).example:  rle([1,1,1,2,2,3,3,3,3]) → [(1,3),(2,2),(3,4)]"
      ],
      "metadata": {
        "id": "jRss3hV_jq8x"
      }
    },
    {
      "cell_type": "markdown",
      "source": [
        "##Method_1"
      ],
      "metadata": {
        "id": "xWRlHBZZVvdy"
      }
    },
    {
      "cell_type": "code",
      "source": [
        "def Run_Length_Encoding(lst):\n",
        "  counts = []\n",
        "  for i in set(lst):\n",
        "    counts.append((i,lst.count(i)))\n",
        "  return counts\n",
        "rle_final=Run_Length_Encoding([1,1,1,2,2,3,3,3,3])\n",
        "print(f'rle([1,1,1,2,2,3,3,3,3]) → {rle_final}')\n",
        "\n"
      ],
      "metadata": {
        "colab": {
          "base_uri": "https://localhost:8080/"
        },
        "id": "aumlO7AsM70C",
        "outputId": "5ad1d261-e20c-435c-e36a-4b0d2ebbf338"
      },
      "execution_count": 10,
      "outputs": [
        {
          "output_type": "stream",
          "name": "stdout",
          "text": [
            "rle([1,1,1,2,2,3,3,3,3]) → [(1, 3), (2, 2), (3, 4)]\n"
          ]
        }
      ]
    },
    {
      "cell_type": "markdown",
      "source": [
        "##Method_2"
      ],
      "metadata": {
        "id": "JWVXT7kVV2Y6"
      }
    },
    {
      "cell_type": "code",
      "source": [
        "def Run_Length_Encoding(lst):\n",
        "  result = []\n",
        "  count = 1\n",
        "  previous = lst[0]\n",
        "  for i in lst[1:]:\n",
        "     if i == previous:\n",
        "         count += 1\n",
        "     else:\n",
        "      result.append((previous,count))\n",
        "      previous = i\n",
        "      count = 1\n",
        "  result.append((previous,count))\n",
        "  return result\n",
        "\n",
        "rle_final=Run_Length_Encoding([1,1,1,2,2,3,3,3,3])\n",
        "print(f'rle([1,1,1,2,2,3,3,3,3]) → {rle_final}')\n",
        "\n",
        "\n"
      ],
      "metadata": {
        "colab": {
          "base_uri": "https://localhost:8080/"
        },
        "id": "3VuKzsFhQLwN",
        "outputId": "b8c08324-213c-44d5-dfd2-4cb73392f771"
      },
      "execution_count": 14,
      "outputs": [
        {
          "output_type": "stream",
          "name": "stdout",
          "text": [
            "rle([1,1,1,2,2,3,3,3,3]) → [(1, 3), (2, 2), (3, 4)]\n"
          ]
        }
      ]
    },
    {
      "cell_type": "markdown",
      "source": [
        "##Method_3"
      ],
      "metadata": {
        "id": "LVzhZzPKV5Y6"
      }
    },
    {
      "cell_type": "code",
      "source": [
        "from itertools import groupby\n",
        "\n",
        "def Run_Length_Encoding(lst):\n",
        "    return [(key, len(list(group))) for key, group in groupby(lst)]\n",
        "\n",
        "rle_final = Run_Length_Encoding([1,1,1,2,2,3,3,3,3])\n",
        "\n",
        "print(f'rle([1,1,1,2,2,3,3,3,3]) → {rle_final}')"
      ],
      "metadata": {
        "colab": {
          "base_uri": "https://localhost:8080/"
        },
        "id": "RZ8QY3NYUyz7",
        "outputId": "6b0bdd70-e9d2-467b-cd69-76c622a41b35"
      },
      "execution_count": 27,
      "outputs": [
        {
          "output_type": "stream",
          "name": "stdout",
          "text": [
            "rle([1,1,1,2,2,3,3,3,3]) → [(1, 3), (2, 2), (3, 4)]\n"
          ]
        }
      ]
    }
  ]
}